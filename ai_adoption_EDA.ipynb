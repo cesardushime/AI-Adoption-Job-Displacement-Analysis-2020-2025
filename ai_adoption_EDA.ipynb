{
 "cells": [
  {
   "cell_type": "markdown",
   "id": "59f1f35b",
   "metadata": {},
   "source": [
    "### AI Adoption Analysis Acrross Various Sectors and Countries\n",
    "\n",
    " the influence of AI-generated content across various industries, including journalism, social media, entertainment, and marketing. It provides insights into public sentiment, engagement trends, economic impact, and regulatory responses over time."
   ]
  },
  {
   "cell_type": "code",
   "execution_count": null,
   "id": "27dffd1e",
   "metadata": {},
   "outputs": [],
   "source": [
    "data_path = 'Global_AI_Content_Impact_Dataset.csv'\n"
   ]
  }
 ],
 "metadata": {
  "language_info": {
   "name": "python"
  }
 },
 "nbformat": 4,
 "nbformat_minor": 5
}
